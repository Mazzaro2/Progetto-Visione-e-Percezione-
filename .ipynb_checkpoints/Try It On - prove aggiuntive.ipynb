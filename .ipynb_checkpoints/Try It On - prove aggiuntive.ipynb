{
 "cells": [
  {
   "cell_type": "code",
   "execution_count": null,
   "id": "38e1a828",
   "metadata": {},
   "outputs": [],
   "source": [
    "!python inference.py --width 768 --height 1024 --num_inference_steps 25 --output_dir result --unpaired --data_dir ./data/vitonhd --seed 42 --test_batch_size 3 --guidance_scale 4.0 --mixed_precision fp16\n"
   ]
  },
  {
   "cell_type": "code",
   "execution_count": null,
   "id": "0f3104bc",
   "metadata": {},
   "outputs": [],
   "source": [
    "import os\n",
    "import json\n",
    "from PIL import Image\n",
    "import matplotlib.pyplot as plt\n",
    "import seaborn as sns\n",
    "import pandas as pd\n",
    "import numpy as np\n",
    "import random\n",
    "from IPython.display import display, Markdown\n",
    "\n",
    "coppie = [\n",
    "    (\"00006_00.jpg\", \"00484_00.jpg\"),\n",
    "    (\"00008_00.jpg\", \"00502_00.jpg\"),\n",
    "    (\"00013_00.jpg\", \"00620_00.jpg\"),\n",
    "    (\"00055_00.jpg\", \"00911_00.jpg\"),\n",
    "    (\"00057_00.jpg\", \"01036_00.jpg\"),\n",
    "    (\"00071_00.jpg\", \"01035_00.jpg\"),\n",
    "    (\"00094_00.jpg\", \"01046_00.jpg\"),\n",
    "    (\"00112_00.jpg\", \"01287_00.jpg\"),\n",
    "    (\"00121_00.jpg\", \"01399_00.jpg\"),\n",
    "    (\"00260_00.jpg\", \"01446_00.jpg\"),\n",
    "    (\"00330_00.jpg\", \"03390_00.jpg\"),\n",
    "    (\"06835_00.jpg\", \"03634_00.jpg\"),\n",
    "    (\"06936_00.jpg\", \"03922_00.jpg\"),\n",
    "    (\"06956_00.jpg\", \"04488_00.jpg\"),\n",
    "    (\"07193_00.jpg\", \"04632_00.jpg\"),\n",
    "    (\"10543_00.jpg\", \"05309_00.jpg\"),\n",
    "    (\"10549_00.jpg\", \"06705_00.jpg\"),\n",
    "    (\"10832_00.jpg\", \"08183_00.jpg\"),\n",
    "    (\"10947_00.jpg\", \"08242_00.jpg\"),\n",
    "    (\"11054_00.jpg\", \"08452_00.jpg\"),\n",
    "    (\"11102_00.jpg\", \"12894_00.jpg\"),\n",
    "    (\"11330_00.jpg\", \"13289_00.jpg\"),\n",
    "    (\"11412_00.jpg\", \"13346_00.jpg\"),\n",
    "    (\"11468_00.jpg\", \"00069_00.jpg\"),\n",
    "    (\"11551_00.jpg\", \"00504_00.jpg\")\n",
    "]\n",
    "\n",
    "pd.set_option('display.max_columns', None)\n",
    "pd.set_option('display.width', 2000) \n",
    "pd.set_option('display.max_colwidth', None)\n",
    "\n",
    "# Simula dati metrici\n",
    "np.random.seed(42)\n",
    "numero_campioni = len(coppie)\n",
    "\n",
    "metriche_df = pd.DataFrame({\n",
    "    \"Coppia\": [f\"{p}-{c}\" for p, c in coppie],\n",
    "    \"SSIM\": np.round(np.random.uniform(0.75, 0.95, size=numero_campioni), 3),\n",
    "    \"PSNR\": np.round(np.random.uniform(20, 35, size=numero_campioni), 2),\n",
    "    \"R. previsti\": np.round(np.random.uniform(0.7, 1.0, size=numero_campioni), 3),\n",
    "    \"R. reali\": np.round(np.random.uniform(0.7, 1.0, size=numero_campioni), 3),\n",
    "    \"F1\": np.round(np.random.uniform(0.7, 1.0, size=numero_campioni), 3),\n",
    "    \"TP\": np.random.randint(1800, 2500, size=numero_campioni),\n",
    "    \"FP\": np.random.randint(20, 200, size=numero_campioni),\n",
    "    \"FN\": np.random.randint(20, 200, size=numero_campioni),\n",
    "    \"TN\": np.random.randint(1000, 2000, size=numero_campioni),\n",
    "})\n",
    "print(metriche_df)"
   ]
  }
 ],
 "metadata": {
  "kernelspec": {
   "display_name": "Python [conda env:idm]",
   "language": "python",
   "name": "conda-env-idm-py"
  },
  "language_info": {
   "codemirror_mode": {
    "name": "ipython",
    "version": 3
   },
   "file_extension": ".py",
   "mimetype": "text/x-python",
   "name": "python",
   "nbconvert_exporter": "python",
   "pygments_lexer": "ipython3",
   "version": "3.10.18"
  }
 },
 "nbformat": 4,
 "nbformat_minor": 5
}
